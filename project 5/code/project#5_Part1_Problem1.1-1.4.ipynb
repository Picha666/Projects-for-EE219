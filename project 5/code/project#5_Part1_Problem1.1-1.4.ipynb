{
 "cells": [
  {
   "cell_type": "code",
   "execution_count": 1,
   "metadata": {
    "scrolled": true
   },
   "outputs": [
    {
     "name": "stderr",
     "output_type": "stream",
     "text": [
      "/Users/luren/anaconda3/lib/python3.6/site-packages/statsmodels/compat/pandas.py:56: FutureWarning: The pandas.core.datetools module is deprecated and will be removed in a future version. Please use the pandas.tseries module instead.\n",
      "  from pandas.core import datetools\n"
     ]
    }
   ],
   "source": [
    "import datetime, time\n",
    "import pytz\n",
    "import json\n",
    "import matplotlib.pyplot as plt\n",
    "import io\n",
    "from collections import defaultdict\n",
    "import numpy as np\n",
    "import statsmodels.api as sm\n",
    "from sklearn.model_selection import KFold"
   ]
  },
  {
   "cell_type": "markdown",
   "metadata": {},
   "source": [
    "## Resort every hashtag file by 'citation_date'"
   ]
  },
  {
   "cell_type": "markdown",
   "metadata": {},
   "source": [
    "### Reconstruct \"gohawks\""
   ]
  },
  {
   "cell_type": "code",
   "execution_count": 4,
   "metadata": {
    "collapsed": true
   },
   "outputs": [],
   "source": [
    "gohawks = []\n",
    "f = open('/Users/luren/tweets_#gohawks.txt', 'rb')\n",
    "for line in f:\n",
    "    gohawks.append(json.loads(line))"
   ]
  },
  {
   "cell_type": "code",
   "execution_count": 5,
   "metadata": {
    "collapsed": true
   },
   "outputs": [],
   "source": [
    "gohawks_out = sorted(gohawks, key = lambda x: x['citation_date'])"
   ]
  },
  {
   "cell_type": "code",
   "execution_count": 6,
   "metadata": {
    "collapsed": true
   },
   "outputs": [],
   "source": [
    "fileObject = open('/Users/luren/gohawks.json', 'w+')\n",
    "for tweet in gohawks_out:\n",
    "    jsObj = json.dumps(tweet)\n",
    "    fileObject.write(jsObj+'\\n')\n",
    "fileObject.close()"
   ]
  },
  {
   "cell_type": "markdown",
   "metadata": {},
   "source": [
    "### Reconstruct \"gopatriots\""
   ]
  },
  {
   "cell_type": "code",
   "execution_count": 7,
   "metadata": {
    "collapsed": true
   },
   "outputs": [],
   "source": [
    "gopatriots = []\n",
    "f = open('/Users/luren/tweets_#gopatriots.txt', 'rb')\n",
    "for line in f:\n",
    "    gopatriots.append(json.loads(line))"
   ]
  },
  {
   "cell_type": "code",
   "execution_count": 8,
   "metadata": {
    "collapsed": true
   },
   "outputs": [],
   "source": [
    "gopatriots_out = sorted(gopatriots, key = lambda x: x['citation_date'])"
   ]
  },
  {
   "cell_type": "code",
   "execution_count": 9,
   "metadata": {
    "collapsed": true
   },
   "outputs": [],
   "source": [
    "fileObject = open('/Users/luren/gopatriots.json', 'w+')\n",
    "for tweet in gopatriots_out:\n",
    "    jsObj = json.dumps(tweet)\n",
    "    fileObject.write(jsObj+'\\n')\n",
    "fileObject.close()"
   ]
  },
  {
   "cell_type": "markdown",
   "metadata": {},
   "source": [
    "### Reconstruct \"nfl\""
   ]
  },
  {
   "cell_type": "code",
   "execution_count": 10,
   "metadata": {
    "collapsed": true
   },
   "outputs": [],
   "source": [
    "nfl = []\n",
    "f = open('/Users/luren/tweets_#nfl.txt', 'rb')\n",
    "for line in f:\n",
    "    nfl.append(json.loads(line))"
   ]
  },
  {
   "cell_type": "code",
   "execution_count": 11,
   "metadata": {
    "collapsed": true
   },
   "outputs": [],
   "source": [
    "nfl_out = sorted(nfl, key = lambda x: x['citation_date'])"
   ]
  },
  {
   "cell_type": "code",
   "execution_count": 12,
   "metadata": {
    "collapsed": true
   },
   "outputs": [],
   "source": [
    "fileObject = open('/Users/luren/nfl.json', 'w+')\n",
    "for tweet in nfl_out:\n",
    "    jsObj = json.dumps(tweet)\n",
    "    fileObject.write(jsObj+'\\n')\n",
    "fileObject.close()"
   ]
  },
  {
   "cell_type": "markdown",
   "metadata": {},
   "source": [
    "### Reconstruct \"patriots\""
   ]
  },
  {
   "cell_type": "code",
   "execution_count": 13,
   "metadata": {
    "collapsed": true
   },
   "outputs": [],
   "source": [
    "patriots = []\n",
    "f = open('/Users/luren/tweets_#patriots.txt', 'rb')\n",
    "for line in f:\n",
    "    patriots.append(json.loads(line))"
   ]
  },
  {
   "cell_type": "code",
   "execution_count": 14,
   "metadata": {
    "collapsed": true
   },
   "outputs": [],
   "source": [
    "patriots_out = sorted(patriots, key = lambda x: x['citation_date'])"
   ]
  },
  {
   "cell_type": "code",
   "execution_count": 15,
   "metadata": {
    "collapsed": true
   },
   "outputs": [],
   "source": [
    "fileObject = open('/Users/luren/patriots.json', 'w+')\n",
    "for tweet in patriots_out:\n",
    "    jsObj = json.dumps(tweet)\n",
    "    fileObject.write(jsObj+'\\n')\n",
    "fileObject.close()"
   ]
  },
  {
   "cell_type": "markdown",
   "metadata": {},
   "source": [
    "### Reconstruct \"sb49\""
   ]
  },
  {
   "cell_type": "code",
   "execution_count": 16,
   "metadata": {
    "collapsed": true
   },
   "outputs": [],
   "source": [
    "sb49 = []\n",
    "f = open('/Users/luren/tweets_#sb49.txt', 'rb')\n",
    "for line in f:\n",
    "    sb49.append(json.loads(line))"
   ]
  },
  {
   "cell_type": "code",
   "execution_count": 17,
   "metadata": {
    "collapsed": true
   },
   "outputs": [],
   "source": [
    "sb49_out = sorted(sb49, key = lambda x: x['citation_date'])"
   ]
  },
  {
   "cell_type": "code",
   "execution_count": 18,
   "metadata": {
    "collapsed": true
   },
   "outputs": [],
   "source": [
    "fileObject = open('/Users/luren/sb49.json', 'w+')\n",
    "for tweet in sb49_out:\n",
    "    jsObj = json.dumps(tweet)\n",
    "    fileObject.write(jsObj+'\\n')\n",
    "fileObject.close()"
   ]
  },
  {
   "cell_type": "markdown",
   "metadata": {},
   "source": [
    "### Reconstruct \"superbowl\""
   ]
  },
  {
   "cell_type": "code",
   "execution_count": 2,
   "metadata": {
    "collapsed": true
   },
   "outputs": [],
   "source": [
    "superbowl = []\n",
    "f = open('/Users/luren/tweets_#superbowl.txt', 'rb')\n",
    "for line in f:\n",
    "    superbowl.append(json.loads(line))"
   ]
  },
  {
   "cell_type": "code",
   "execution_count": 3,
   "metadata": {
    "collapsed": true
   },
   "outputs": [],
   "source": [
    "superbowl_out = sorted(superbowl, key = lambda x: x['citation_date'])"
   ]
  },
  {
   "cell_type": "code",
   "execution_count": 4,
   "metadata": {
    "collapsed": true
   },
   "outputs": [],
   "source": [
    "fileObject = open('/Users/luren/superbowl.json', 'w+')\n",
    "for tweet in superbowl_out:\n",
    "    jsObj = json.dumps(tweet)\n",
    "    fileObject.write(jsObj+'\\n')\n",
    "fileObject.close()"
   ]
  },
  {
   "cell_type": "markdown",
   "metadata": {},
   "source": [
    "# Problem 1.1"
   ]
  },
  {
   "cell_type": "markdown",
   "metadata": {},
   "source": [
    "## Calculate statistics"
   ]
  },
  {
   "cell_type": "code",
   "execution_count": 3,
   "metadata": {
    "collapsed": true
   },
   "outputs": [],
   "source": [
    "tag = ['/Users/luren/gohawks.json', '/Users/luren/gopatriots.json', '/Users/luren/nfl.json', \n",
    "       '/Users/luren/patriots.json', '/Users/luren/sb49.json', '/Users/luren/superbowl.json']"
   ]
  },
  {
   "cell_type": "code",
   "execution_count": 4,
   "metadata": {},
   "outputs": [
    {
     "name": "stdout",
     "output_type": "stream",
     "text": [
      "/Users/luren/gohawks.json\n",
      "number_of_tweet is 188136.0\n",
      "start_time 1421222681\n",
      "end_time 1423304269\n",
      "number of hours is 578.2189\n",
      "Average number of tweets per hour is 325.3716\n",
      "Average number of followers is 2203.9318\n",
      "Average number of retweets is 2.0146\n",
      "/Users/luren/gopatriots.json\n",
      "number_of_tweet is 26232.0\n",
      "start_time 1421229011\n",
      "end_time 1423295675\n",
      "number of hours is 574.0733\n",
      "Average number of tweets per hour is 45.6945\n",
      "Average number of followers is 1401.8955\n",
      "Average number of retweets is 1.4001\n",
      "/Users/luren/nfl.json\n",
      "number_of_tweet is 259024.0\n",
      "start_time 1421222404\n",
      "end_time 1423335336\n",
      "number of hours is 586.9256\n",
      "Average number of tweets per hour is 441.3234\n",
      "Average number of followers is 4653.2523\n",
      "Average number of retweets is 1.5385\n",
      "/Users/luren/patriots.json\n",
      "number_of_tweet is 489713.0\n",
      "start_time 1421222838\n",
      "end_time 1423335300\n",
      "number of hours is 586.7950\n",
      "Average number of tweets per hour is 834.5555\n",
      "Average number of followers is 3309.9788\n",
      "Average number of retweets is 1.7828\n",
      "/Users/luren/sb49.json\n",
      "number_of_tweet is 826951.0\n",
      "start_time 1421238675\n",
      "end_time 1423335336\n",
      "number of hours is 582.4058\n",
      "Average number of tweets per hour is 1419.8879\n",
      "Average number of followers is 10267.3168\n",
      "Average number of retweets is 2.5111\n",
      "/Users/luren/superbowl.json\n",
      "number_of_tweet is 1348767.0\n",
      "start_time 1421223187\n",
      "end_time 1423332008\n",
      "number of hours is 585.7836\n",
      "Average number of tweets per hour is 2302.5004\n",
      "Average number of followers is 8858.9747\n",
      "Average number of retweets is 2.3883\n"
     ]
    }
   ],
   "source": [
    "for tagname in tag:\n",
    "    retweets = 0\n",
    "    followers = 0\n",
    "    print(tagname)\n",
    "    f = io.open(tagname, 'rb')\n",
    "\n",
    "    number_tweets = len(f.readlines())\n",
    "    f.seek(0, 0)\n",
    "    tweet_0 = json.loads(f.readline()) \n",
    "    print('number_of_tweet is %.1f' % number_tweets)\n",
    "    #user_ids = dict()\n",
    "    #number_tweets = len(tag)\n",
    "    f.seek(0, 0) #Go back to the original point\n",
    "    \n",
    "    start_time = tweet_0['citation_date']\n",
    "    #end_time = tweet_0['citation_date']\n",
    "    #user_ids[tweet_0['tweet']['user']['id']] = tweet_0['author']['followers']\n",
    "    \n",
    "    for line in f:\n",
    "        tweet = json.loads(line)\n",
    "        end_time = tweet['citation_date']\n",
    "    \n",
    "        followers = followers + tweet['author']['followers']\n",
    "        retweets = retweets + tweet['metrics']['citations']['total']\n",
    "        #user_id = tweet['tweet']['user']['id']\n",
    "        #number_of_followers = tweet['author']['followers']\n",
    "        #user_ids[user_id] = number_of_followers\n",
    "    \n",
    "    #print(start_time)\n",
    "    #print(end_time)\n",
    "    \n",
    "    print('start_time', start_time)\n",
    "    print('end_time', end_time)\n",
    "    \n",
    "    number_hour = (end_time - start_time)/3600.\n",
    "    print('number of hours is %.4f' % number_hour)\n",
    "    avg_num = float(float(number_tweets)/float(number_hour))\n",
    "    print('Average number of tweets per hour is %.4f' % avg_num)\n",
    "    \n",
    "    #print(len(user_ids.keys()))\n",
    "    #print(sum(user_ids.values()))\n",
    "    #avg_fol = float(sum(user_ids.values())/float(len(user_ids.keys())))\n",
    "    avg_fol = float(float(followers)/float(number_tweets))\n",
    "    print('Average number of followers is %.4f' % avg_fol)\n",
    "    \n",
    "    avg_ret = float(float(retweets)/float(number_tweets))\n",
    "    print('Average number of retweets is %.4f' % avg_ret) "
   ]
  },
  {
   "cell_type": "markdown",
   "metadata": {},
   "source": [
    "## Plot histogram"
   ]
  },
  {
   "cell_type": "code",
   "execution_count": 5,
   "metadata": {
    "collapsed": true
   },
   "outputs": [],
   "source": [
    "import math"
   ]
  },
  {
   "cell_type": "code",
   "execution_count": 76,
   "metadata": {},
   "outputs": [
    {
     "name": "stdout",
     "output_type": "stream",
     "text": [
      "587\n",
      "161440.0\n",
      "10830.0\n"
     ]
    }
   ],
   "source": [
    "#nfl\n",
    "f = io.open('/Users/luren/nfl.json', 'rb')\n",
    "    \n",
    "current_window = 1\n",
    "tweet_0 = json.loads(f.readline()) \n",
    "start_time = tweet_0['citation_date']\n",
    "#Each window is one-hour\n",
    "end_time_of_window = start_time + current_window * 3600 \n",
    "\n",
    "number_of_tweets_per_hour = np.zeros(587)\n",
    "current_hour_tweet = 0\n",
    "f.seek(0, 0)\n",
    "\n",
    "for line in f:\n",
    "    tweet = json.loads(line)\n",
    "    end_time = tweet['citation_date']\n",
    "   \n",
    "    if end_time < end_time_of_window:\n",
    "        current_hour_tweet += 1\n",
    "    else:\n",
    "        # calculate current window this tweet belongs to\n",
    "        n = math.ceil((end_time - start_time)/3600)\n",
    "        #number_of_tweets_per_hour[(current_window-1)] = current_hour_tweet\n",
    "        current_window = n\n",
    "        #number_of_tweets_per_hour.append(current_hour_tweet)\n",
    "        #current_window += 1\n",
    "        current_hour_tweet = 1\n",
    "        end_time_of_window = start_time + current_window * 3600\n",
    "    number_of_tweets_per_hour[(current_window-1)] = current_hour_tweet\n",
    "    \n",
    "print(len(number_of_tweets_per_hour))\n",
    "print(sum(number_of_tweets_per_hour))\n",
    "print(max(number_of_tweets_per_hour))"
   ]
  },
  {
   "cell_type": "code",
   "execution_count": 6,
   "metadata": {},
   "outputs": [
    {
     "name": "stdout",
     "output_type": "stream",
     "text": [
      "587\n",
      "259024.0\n",
      "10830.0\n"
     ]
    }
   ],
   "source": [
    "#nfl\n",
    "f = io.open('/Users/luren/nfl.json', 'rb')\n",
    "    \n",
    "#current_window = 1\n",
    "tweet_0 = json.loads(f.readline()) \n",
    "start_time = tweet_0['citation_date']\n",
    "#Each window is one-hour\n",
    "#end_time_of_window = start_time + current_window * 3600 \n",
    "\n",
    "number_of_tweets_per_hour = np.zeros(587)\n",
    "#current_hour_tweet = 0\n",
    "f.seek(0, 0)\n",
    "\n",
    "for line in f:\n",
    "    tweet = json.loads(line)\n",
    "    #end_time = tweet['citation_date']\n",
    "    time = tweet['citation_date']\n",
    "    n = math.ceil((time - start_time)/3600.)\n",
    "    number_of_tweets_per_hour[(n-1)] += 1\n",
    "   \n",
    "    #if end_time < end_time_of_window:\n",
    "        #current_hour_tweet += 1\n",
    "    #else:\n",
    "        # calculate current window this tweet belongs to\n",
    "        #n = math.ceil((end_time - start_time)/3600)\n",
    "        #number_of_tweets_per_hour[(current_window-1)] = current_hour_tweet\n",
    "        #current_window = n\n",
    "        #number_of_tweets_per_hour.append(current_hour_tweet)\n",
    "        #current_window += 1\n",
    "        #current_hour_tweet = 1\n",
    "        #end_time_of_window = start_time + current_window * 3600\n",
    "    #number_of_tweets_per_hour[(current_window-1)] = current_hour_tweet\n",
    "    \n",
    "print(len(number_of_tweets_per_hour))\n",
    "print(sum(number_of_tweets_per_hour))\n",
    "print(max(number_of_tweets_per_hour))"
   ]
  },
  {
   "cell_type": "code",
   "execution_count": 7,
   "metadata": {
    "scrolled": false
   },
   "outputs": [
    {
     "data": {
      "image/png": "[encoded data removed]",
      "text/plain": [
       "<matplotlib.figure.Figure at 0x10df904e0>"
      ]
     },
     "metadata": {},
     "output_type": "display_data"
    }
   ],
   "source": [
    "plt.bar(range(len(number_of_tweets_per_hour)), number_of_tweets_per_hour, width = 3, color = 'black')\n",
    "plt.xlabel('Hour')\n",
    "plt.ylabel('Number of Tweets')\n",
    "plt.title('Number of Tweets per hour #nfl')\n",
    "plt.show()"
   ]
  },
  {
   "cell_type": "code",
   "execution_count": 10,
   "metadata": {},
   "outputs": [
    {
     "name": "stdout",
     "output_type": "stream",
     "text": [
      "586\n",
      "1348767.0\n",
      "243228.0\n"
     ]
    }
   ],
   "source": [
    "#superbowl\n",
    "f = io.open('/Users/luren/superbowl.json', 'rb')\n",
    "    \n",
    "#current_window = 1\n",
    "tweet_0 = json.loads(f.readline()) \n",
    "start_time = tweet_0['citation_date']\n",
    "#Each window is one-hour\n",
    "#end_time_of_window = start_time + current_window * 3600 \n",
    "\n",
    "number_of_tweets_per_hour = np.zeros(586)\n",
    "#current_hour_tweet = 0\n",
    "f.seek(0, 0)\n",
    "\n",
    "for line in f:\n",
    "    tweet = json.loads(line)\n",
    "    #end_time = tweet['citation_date']\n",
    "    time = tweet['citation_date']\n",
    "    n = math.ceil((time - start_time)/3600.)\n",
    "    number_of_tweets_per_hour[(n-1)] += 1\n",
    "   \n",
    "    #if end_time < end_time_of_window:\n",
    "        #current_hour_tweet += 1\n",
    "    #else:\n",
    "        # calculate current window this tweet belongs to\n",
    "        #n = math.ceil((end_time - start_time)/3600)\n",
    "        #number_of_tweets_per_hour[(current_window-1)] = current_hour_tweet\n",
    "        #current_window = n\n",
    "        #number_of_tweets_per_hour.append(current_hour_tweet)\n",
    "        #current_window += 1\n",
    "        #current_hour_tweet = 1\n",
    "        #end_time_of_window = start_time + current_window * 3600\n",
    "    #number_of_tweets_per_hour[(current_window-1)] = current_hour_tweet\n",
    "    \n",
    "print(len(number_of_tweets_per_hour))\n",
    "print(sum(number_of_tweets_per_hour))\n",
    "print(max(number_of_tweets_per_hour))"
   ]
  },
  {
   "cell_type": "code",
   "execution_count": 11,
   "metadata": {},
   "outputs": [
    {
     "data": {
      "image/png": "[encoded data removed]",
      "text/plain": [
       "<matplotlib.figure.Figure at 0x1c17c1ae80>"
      ]
     },
     "metadata": {},
     "output_type": "display_data"
    }
   ],
   "source": [
    "plt.bar(range(len(number_of_tweets_per_hour)), number_of_tweets_per_hour, width = 3, color = 'black')\n",
    "plt.xlabel('Hour')\n",
    "plt.ylabel('Number of Tweets')\n",
    "plt.title('Number of Tweets per hour #superbowl')\n",
    "plt.show()"
   ]
  },
  {
   "cell_type": "markdown",
   "metadata": {},
   "source": [
    "# Problem 1.2"
   ]
  },
  {
   "cell_type": "code",
   "execution_count": 12,
   "metadata": {
    "collapsed": true
   },
   "outputs": [],
   "source": [
    "hour_list = [579, 575, 587, 587, 583, 586]"
   ]
  },
  {
   "cell_type": "code",
   "execution_count": 13,
   "metadata": {
    "collapsed": true
   },
   "outputs": [],
   "source": [
    "from sklearn.metrics import mean_squared_error\n",
    "from math import sqrt"
   ]
  },
  {
   "cell_type": "code",
   "execution_count": 25,
   "metadata": {},
   "outputs": [
    {
     "name": "stdout",
     "output_type": "stream",
     "text": [
      "/Users/luren/gohawks.json\n",
      "188136.0\n",
      "Parameters :  [ -9.30764744e-03   3.85654700e-04  -6.57483458e-04   1.24741406e+01]\n",
      "R-squares measure :  0.461795198691\n",
      "RMSE :  1006.3390828098585\n",
      "p values :  [  8.02297712e-01   4.04906612e-22   3.48453742e-06   3.15202615e-04]\n",
      "t-test :  [ -0.25049046  10.0820695   -4.68589648   3.62452617]\n",
      "/Users/luren/gopatriots.json\n",
      "26232.0\n",
      "Parameters :  [  3.28261336e-01   3.68812140e-04  -4.67890141e-04   9.30112960e-01]\n",
      "R-squares measure :  0.605967616777\n",
      "RMSE :  195.65006145415165\n",
      "p values :  [ 0.03476319  0.0520287   0.01098856  0.1948119 ]\n",
      "t-test :  [ 2.11617046  1.94697345 -2.55141694  1.29800121]\n",
      "/Users/luren/nfl.json\n",
      "259024.0\n",
      "Parameters :  [  6.62658372e-02   1.59492883e-04  -1.67582019e-04   1.15313796e+01]\n",
      "R-squares measure :  0.62883447265\n",
      "RMSE :  600.2791146100624\n",
      "p values :  [  1.93165905e-01   6.36378098e-13   2.91731799e-07   1.62046863e-07]\n",
      "t-test :  [ 1.30277767  7.35855625 -5.18948027  5.30299463]\n",
      "/Users/luren/patriots.json\n",
      "489713.0\n",
      "Parameters :  [  5.86874766e-01  -4.35022709e-05   2.60587339e-04  -1.02100826e+01]\n",
      "R-squares measure :  0.600895771937\n",
      "RMSE :  2814.369359595384\n",
      "p values :  [  6.06990063e-44   1.54019553e-01   2.11543764e-02   2.95375483e-01]\n",
      "t-test :  [ 15.14886184  -1.42733535   2.31148636  -1.04734448]\n",
      "/Users/luren/sb49.json\n",
      "826951.0\n",
      "Parameters :  [  8.28410725e-01  -1.31397206e-04   3.26122875e-04  -3.16445608e+01]\n",
      "R-squares measure :  0.793853655179\n",
      "RMSE :  4604.501943763391\n",
      "p values :  [  9.27513771e-104   1.41021889e-048   1.50985409e-011   5.11812706e-002]\n",
      "t-test :  [ 26.86006675 -16.12526047   6.88507301  -1.95401539]\n",
      "/Users/luren/superbowl.json\n",
      "1348767.0\n",
      "Parameters :  [  5.00979178e-01  -7.24220818e-05   5.48363233e-04  -1.75337527e+01]\n",
      "R-squares measure :  0.741239093392\n",
      "RMSE :  9168.239110030334\n",
      "p values :  [  2.95321701e-49   9.43909136e-09   1.04023906e-04   6.07052626e-01]\n",
      "t-test :  [ 16.25663128  -5.82544577   3.90799848  -0.51456512]\n"
     ]
    }
   ],
   "source": [
    "# features are number of tweets, number of retweets, number of followers, maximum number of followers, time of the day\n",
    "i = 0\n",
    "for tagname in tag:\n",
    "    print(tagname)\n",
    "    f = io.open(tagname, 'r')\n",
    "    \n",
    "    tweet_0 = json.loads(f.readline())  \n",
    "    start_time = tweet_0['citation_date']\n",
    "    #current_window = 1\n",
    "    #end_time_of_window = start_time + current_window * 3600\n",
    "   \n",
    "    # calculate features for model construction\n",
    "    pst_tz = pytz.timezone('US/Pacific')\n",
    "    #current_hour_tweet = 0\n",
    "    #current_hour_retweets = 0\n",
    "    #current_hour_followers = 0\n",
    "    #current_hour_max_followers = 0\n",
    "\n",
    "    tweet_features = np.zeros([hour_list[i], 5])\n",
    "    #tweet_class = np.zeros(hour_list[i])\n",
    "    f.seek(0, 0)\n",
    "    \n",
    "    for line in f:\n",
    "        tweet = json.loads(line)\n",
    "        time = tweet['citation_date']\n",
    "        # Calculate which hour current tweet belongs to\n",
    "        n = math.ceil((time - start_time)/3600.)\n",
    "        # Update value of features for corresponding hour \n",
    "        tweet_features[(n-1), 0] += 1\n",
    "        tweet_features[(n-1), 1] += tweet['metrics']['citations']['total']\n",
    "        followers = tweet['author']['followers']\n",
    "        tweet_features[(n-1), 2] += followers\n",
    "        if followers > tweet_features[(n-1), 3]:\n",
    "            tweet_features[(n-1), 3] = followers\n",
    "        time_of_the_day = int(datetime.datetime.fromtimestamp(tweet['citation_date'], pst_tz).strftime(\"%H\"))\n",
    "        tweet_features[(n-1), 4] = time_of_the_day\n",
    "        \n",
    "    tweet_y = tweet_features[1:,0]\n",
    "    tweet_x = tweet_features[:(hour_list[i]-1), 1:]\n",
    "    \n",
    "        #if end_time <= end_time_of_window:\n",
    "            #current_hour_tweet += 1\n",
    "            #current_hour_retweets += tweet['metrics']['citations']['total']\n",
    "            #followers = tweet['author']['followers']\n",
    "            #current_hour_followers += followers\n",
    "            #if followers > current_hour_max_followers:\n",
    "                #current_hour_max_followers = followers\n",
    "            #time_of_the_day = int(datetime.datetime.fromtimestamp(tweet['citation_date'], pst_tz).strftime(\"%H\"))\n",
    "        #else:\n",
    "            # store the independent and dependent variables for the last time window\n",
    "            #tweet_class[(current_window-1)] = current_hour_tweet\n",
    "            #features = [current_hour_tweet,current_hour_retweets,current_hour_followers,current_hour_max_followers,time_of_the_day]\n",
    "            #tweet_features[(current_window-1)] = features\n",
    "            \n",
    "            # Go to the time window current tweet belongs to \n",
    "            #n = math.ceil((end_time - start_time)/3600)\n",
    "            #current_window = n\n",
    "            #end_time_of_window = start_time + current_window * 3600\n",
    "            \n",
    "            # reset features\n",
    "            #current_hour_tweet = 1\n",
    "            #current_hour_retweets = tweet['metrics']['citations']['total']\n",
    "            #current_hour_followers = tweet['author']['followers']\n",
    "            #current_hour_max_followers = tweet['author']['followers']\n",
    "    \n",
    "    print(sum(tweet_features[:, 0]))\n",
    "    # Reconstruct independent and dependent variable\n",
    "    #tweet_class_model = tweet_class[1:]\n",
    "    #tweet_features_model = tweet_features[0:(len(tweet_features)-1)]\n",
    "    #del(tweet_class[0])\n",
    "    #del(tweet_features[-1])\n",
    "\n",
    "    # Build linear regression model\n",
    "    result = sm.OLS(tweet_y, tweet_x).fit()\n",
    "    # Calculate RMSE\n",
    "    tweet_y_predict = result.predict(tweet_x)\n",
    "    rmse = sqrt(mean_squared_error(tweet_y, tweet_y_predict))\n",
    "    \n",
    "    print('Parameters : ', result.params)\n",
    "    print('R-squares measure : ', result.rsquared)\n",
    "    print('RMSE : ', rmse)\n",
    "    print('p values : ', result.pvalues)\n",
    "    print('t-test : ', result.tvalues)\n",
    "    \n",
    "    i = i + 1"
   ]
  },
  {
   "cell_type": "markdown",
   "metadata": {},
   "source": [
    "# Problem 1.3"
   ]
  },
  {
   "cell_type": "code",
   "execution_count": 26,
   "metadata": {
    "collapsed": true
   },
   "outputs": [],
   "source": [
    "# Add new features: Ranking score, favorite count, impression_count, number of users tweeting per hour\n",
    "feature_names = ['current_hour_retweets', 'current_hour_followers',\n",
    "                       'max_number_of_followers', 'time_of_the_day', 'ranking_score', 'favourite_count',\n",
    "                       'impression_count', 'number_user_tweeting']"
   ]
  },
  {
   "cell_type": "code",
   "execution_count": 48,
   "metadata": {
    "scrolled": true
   },
   "outputs": [
    {
     "name": "stdout",
     "output_type": "stream",
     "text": [
      "/Users/luren/gohawks.json\n",
      "188136.0\n",
      "(578,)\n",
      "(578, 8)\n",
      "R-squares measure :  0.541218691949\n",
      "RMSE :  902.5959282427425\n",
      "p values :  [  4.86083194e-17   3.43155185e-07   3.97424364e-02   4.80913495e-01\n",
      "   1.85485426e-28   9.31022302e-14   1.76679515e-05   2.62824681e-01]\n",
      "t-test :  [ -8.65983082  -5.15903336   2.06114265   0.70529707  11.69223101\n",
      "   7.63893933   4.3293392    1.12084774]\n",
      "[4, 0, 5, 1, 6, 2, 7, 3]\n"
     ]
    },
    {
     "data": {
      "image/png": "[encoded data removed]",
      "text/plain": [
       "<matplotlib.figure.Figure at 0x112540eb8>"
      ]
     },
     "metadata": {},
     "output_type": "display_data"
    },
    {
     "data": {
      "image/png": "[encoded data removed]",
      "text/plain": [
       "<matplotlib.figure.Figure at 0x10dd9ae48>"
      ]
     },
     "metadata": {},
     "output_type": "display_data"
    },
    {
     "data": {
      "image/png": "[encoded data removed]",
      "text/plain": [
       "<matplotlib.figure.Figure at 0x1c17f30438>"
      ]
     },
     "metadata": {},
     "output_type": "display_data"
    },
    {
     "name": "stdout",
     "output_type": "stream",
     "text": [
      "/Users/luren/gopatriots.json\n",
      "26232.0\n",
      "(574,)\n",
      "(574, 8)\n",
      "R-squares measure :  0.706101992477\n",
      "RMSE :  167.14501658830417\n",
      "p values :  [  6.39986531e-03   1.11827772e-06   1.57440332e-03   2.22888602e-01\n",
      "   5.63225355e-01   7.18323810e-38   3.17094895e-07   5.92885942e-01]\n",
      "t-test :  [  2.73675096   4.92325792  -3.17601762   1.22022273  -0.57839823\n",
      " -13.87093663  -5.17493436   0.53496242]\n",
      "[5, 6, 1, 2, 0, 3, 4, 7]\n"
     ]
    },
    {
     "data": {
      "image/png": "[encoded data removed]",
      "text/plain": [
       "<matplotlib.figure.Figure at 0x1c17c61710>"
      ]
     },
     "metadata": {},
     "output_type": "display_data"
    },
    {
     "data": {
      "image/png": "[encoded data removed]",
      "text/plain": [
       "<matplotlib.figure.Figure at 0x1c18037828>"
      ]
     },
     "metadata": {},
     "output_type": "display_data"
    },
    {
     "data": {
      "image/png": "[encoded data removed]",
      "text/plain": [
       "<matplotlib.figure.Figure at 0x1c17dcd908>"
      ]
     },
     "metadata": {},
     "output_type": "display_data"
    },
    {
     "name": "stdout",
     "output_type": "stream",
     "text": [
      "/Users/luren/nfl.json\n",
      "259024.0\n",
      "(586,)\n",
      "(586, 8)\n",
      "R-squares measure :  0.688286751017\n",
      "RMSE :  491.67179108094444\n",
      "p values :  [  3.93380946e-02   6.90655932e-01   6.55252718e-01   7.25274160e-01\n",
      "   1.17335625e-20   1.24058507e-44   7.34035733e-01   1.23126298e-01]\n",
      "t-test :  [ -2.06531889   0.39816453   0.4467087   -0.35158965   9.68481152\n",
      " -15.30357616  -0.33992602   1.54403854]\n",
      "[5, 4, 0, 7, 2, 1, 3, 6]\n"
     ]
    },
    {
     "data": {
      "image/png": "[encoded data removed]",
      "text/plain": [
       "<matplotlib.figure.Figure at 0x1c196d5630>"
      ]
     },
     "metadata": {},
     "output_type": "display_data"
    },
    {
     "data": {
      "image/png": "[encoded data removed]",
      "text/plain": [
       "<matplotlib.figure.Figure at 0x1c1b4b1e48>"
      ]
     },
     "metadata": {},
     "output_type": "display_data"
    },
    {
     "data": {
      "image/png": "[encoded data removed]",
      "text/plain": [
       "<matplotlib.figure.Figure at 0x1c1b4acf98>"
      ]
     },
     "metadata": {},
     "output_type": "display_data"
    },
    {
     "name": "stdout",
     "output_type": "stream",
     "text": [
      "/Users/luren/patriots.json\n",
      "489713.0\n",
      "(586,)\n",
      "(586, 8)\n",
      "R-squares measure :  0.701234299336\n",
      "RMSE :  2391.801502456121\n",
      "p values :  [  1.49431138e-04   5.90188383e-01   2.98671302e-02   9.50630300e-01\n",
      "   6.97297879e-28   6.02529853e-01   5.58271696e-01   4.23124001e-01]\n",
      "t-test :  [ -3.81738775   0.5388637    2.17723123  -0.06194217  11.5435339\n",
      "   0.52105237  -0.5857507    0.80158234]\n",
      "[4, 0, 2, 7, 6, 1, 5, 3]\n"
     ]
    },
    {
     "data": {
      "image/png": "[encoded data removed]",
      "text/plain": [
       "<matplotlib.figure.Figure at 0x1c17cde2e8>"
      ]
     },
     "metadata": {},
     "output_type": "display_data"
    },
    {
     "data": {
      "image/png": "[encoded data removed]",
      "text/plain": [
       "<matplotlib.figure.Figure at 0x1c1cd8a2b0>"
      ]
     },
     "metadata": {},
     "output_type": "display_data"
    },
    {
     "data": {
      "image/png": "[encoded data removed]",
      "text/plain": [
       "<matplotlib.figure.Figure at 0x1c1ddf7f28>"
      ]
     },
     "metadata": {},
     "output_type": "display_data"
    },
    {
     "name": "stdout",
     "output_type": "stream",
     "text": [
      "/Users/luren/sb49.json\n",
      "826951.0\n",
      "(582,)\n",
      "(582, 8)\n",
      "R-squares measure :  0.838488352702\n",
      "RMSE :  4035.4478106167744\n",
      "p values :  [  7.14147065e-02   1.38888156e-01   7.21476180e-08   4.01413076e-01\n",
      "   1.52691536e-24   1.83368933e-02   1.54824340e-01   8.31772869e-01]\n",
      "t-test :  [ -1.80617478   1.48200339   5.45692714  -0.83972344  10.71418118\n",
      "  -2.36550563  -1.42457221   0.21252507]\n",
      "[4, 2, 5, 0, 1, 6, 3, 7]\n"
     ]
    },
    {
     "data": {
      "image/png": "[encoded data removed]",
      "text/plain": [
       "<matplotlib.figure.Figure at 0x1c1ddcf898>"
      ]
     },
     "metadata": {},
     "output_type": "display_data"
    },
    {
     "data": {
      "image/png": "[encoded data removed]",
      "text/plain": [
       "<matplotlib.figure.Figure at 0x1c1771cc88>"
      ]
     },
     "metadata": {},
     "output_type": "display_data"
    },
    {
     "data": {
      "image/png": "[encoded data removed]",
      "text/plain": [
       "<matplotlib.figure.Figure at 0x1c17bdf668>"
      ]
     },
     "metadata": {},
     "output_type": "display_data"
    },
    {
     "name": "stdout",
     "output_type": "stream",
     "text": [
      "/Users/luren/superbowl.json\n",
      "1348767.0\n",
      "(585,)\n",
      "(585, 8)\n",
      "R-squares measure :  0.872933772074\n",
      "RMSE :  6371.899503865502\n",
      "p values :  [  9.17059056e-02   3.20920681e-01   5.10414718e-25   7.37432447e-01\n",
      "   5.80154806e-53   1.64011069e-06   6.35499891e-02   1.75270652e-01]\n",
      "t-test :  [ -1.68928055   0.99342216  10.83269811  -0.33541702  17.02425596\n",
      "  -4.8436094   -1.85890166  -1.35712962]\n",
      "[4, 2, 5, 6, 0, 7, 1, 3]\n"
     ]
    },
    {
     "data": {
      "image/png": "[encoded data removed]",
      "text/plain": [
       "<matplotlib.figure.Figure at 0x1c1cd94ef0>"
      ]
     },
     "metadata": {},
     "output_type": "display_data"
    },
    {
     "data": {
      "image/png": "[encoded data removed]",
      "text/plain": [
       "<matplotlib.figure.Figure at 0x1c1b4ac128>"
      ]
     },
     "metadata": {},
     "output_type": "display_data"
    },
    {
     "data": {
      "image/png": "[encoded data removed]",
      "text/plain": [
       "<matplotlib.figure.Figure at 0x1125400b8>"
      ]
     },
     "metadata": {},
     "output_type": "display_data"
    }
   ],
   "source": [
    "m = 0\n",
    "for tagname in tag:\n",
    "    print(tagname)\n",
    "    f = io.open(tagname, 'r')\n",
    "    \n",
    "    tweet_0 = json.loads(f.readline())  \n",
    "    start_time = tweet_0['citation_date']\n",
    "    \n",
    "    # calculate features for model construction\n",
    "    pst_tz = pytz.timezone('US/Pacific')\n",
    "    tweet_features_more = np.zeros([hour_list[m], 9])\n",
    "    user_id = [[]] * hour_list[m]\n",
    "    #for k in range(hour_list[i]):\n",
    "        #tweet_features_more[k, 8] = []\n",
    "    f.seek(0, 0)\n",
    "        \n",
    "    for line in f:\n",
    "        tweet = json.loads(line)\n",
    "        time = tweet['citation_date']\n",
    "        # Calculate which hour current tweet belongs to\n",
    "        n = math.ceil((time - start_time)/3600.)\n",
    "        # Update value of features for corresponding hour \n",
    "        tweet_features_more[(n-1), 0] += 1\n",
    "        tweet_features_more[(n-1), 1] += tweet['metrics']['citations']['total']\n",
    "        followers = tweet['author']['followers']\n",
    "        tweet_features_more[(n-1), 2] += followers\n",
    "        if followers > tweet_features_more[(n-1), 3]:\n",
    "            tweet_features_more[(n-1), 3] = followers\n",
    "        time_of_the_day = int(datetime.datetime.fromtimestamp(tweet['citation_date'], pst_tz).strftime(\"%H\"))\n",
    "        tweet_features_more[(n-1), 4] = time_of_the_day\n",
    "        tweet_features_more[(n-1), 5] += tweet['metrics']['ranking_score']\n",
    "        tweet_features_more[(n-1), 6] += tweet['tweet']['favorite_count']\n",
    "        tweet_features_more[(n-1), 7] += tweet['metrics']['impressions']\n",
    "        user_id[(n-1)].append(tweet['tweet']['user']['id'])\n",
    "        \n",
    "    \n",
    "    for t in range(len(user_id)):\n",
    "        tweet_features_more[t, 8] = len(np.unique(user_id[t]))\n",
    "    print(sum(tweet_features_more[:, 0]))\n",
    "    \n",
    "    # Reconstruct independent and dependent variable\n",
    "    tweet_more_y = tweet_features_more[1:,0]\n",
    "    print(tweet_more_y.shape)\n",
    "    tweet_more_x = tweet_features_more[:(hour_list[m]-1), 1:]\n",
    "    print(tweet_more_x.shape)\n",
    "    \n",
    "    # Build model\n",
    "    result = sm.OLS(tweet_more_y, tweet_more_x).fit()\n",
    "    tweet_more_y_predict = result.predict(tweet_more_x)\n",
    "    rmse = sqrt(mean_squared_error(tweet_more_y, tweet_more_y_predict))\n",
    "    sorted_p_values = sorted(range(len(result.pvalues)), key=lambda x: result.pvalues[x])\n",
    "    sorted_t_values = sorted(range(len(result.tvalues)), key=lambda x: result.tvalues[x])[::-1]\n",
    "\n",
    "    #print('Parameters : ', result.params)\n",
    "    print('R-squares measure : ', result.rsquared)\n",
    "    print('RMSE : ', rmse)\n",
    "    print('p values : ', result.pvalues)\n",
    "    print('t-test : ', result.tvalues)\n",
    "    print(sorted_p_values)\n",
    "    \n",
    "    for i in range(1,4):\n",
    "        plt.title(\"scatter Plot {}\".format(tagname))\n",
    "        plt.xlabel(\"Number of tweets for next hour\")\n",
    "        plt.ylabel(feature_names[sorted_p_values[i-1]])\n",
    "        plt.scatter(np.array(tweet_more_y), np.array(tweet_more_x)[:, sorted_p_values[i-1]])\n",
    "        plt.show()\n",
    "    \n",
    "    m = m + 1"
   ]
  },
  {
   "cell_type": "markdown",
   "metadata": {},
   "source": [
    "# Problem 1.4 Q1"
   ]
  },
  {
   "cell_type": "code",
   "execution_count": 38,
   "metadata": {
    "collapsed": true
   },
   "outputs": [],
   "source": [
    "# calculate number of hours for each time series\n",
    "start_time_tag = [1421222681, 1421229011, 1421222404, 1421222838, 1421238675, 1421223187]\n",
    "end_time_tag = [1423304269, 1423295675, 1423335336, 1423335300, 1423335336, 1423332008]"
   ]
  },
  {
   "cell_type": "code",
   "execution_count": 50,
   "metadata": {
    "collapsed": true
   },
   "outputs": [],
   "source": [
    "time_8am = 1422806400\n",
    "time_8pm = 1422849600\n",
    "hour_before = np.zeros(6, int)\n",
    "hour_between = np.zeros(6, int)\n",
    "hour_after = np.zeros(6, int)\n",
    "for i in range(6):\n",
    "    hour_before[i] = math.ceil((time_8am - start_time_tag[i])/3600.)\n",
    "    hour_between[i] = math.ceil((time_8pm - time_8am)/3600.)\n",
    "    hour_after[i] = math.ceil((end_time_tag[i] - time_8am)/3600.)"
   ]
  },
  {
   "cell_type": "code",
   "execution_count": 44,
   "metadata": {},
   "outputs": [
    {
     "data": {
      "text/plain": [
       "array([ 440.,  439.,  440.,  440.,  436.,  440.])"
      ]
     },
     "execution_count": 44,
     "metadata": {},
     "output_type": "execute_result"
    }
   ],
   "source": [
    "hour_before"
   ]
  },
  {
   "cell_type": "code",
   "execution_count": 45,
   "metadata": {},
   "outputs": [
    {
     "data": {
      "text/plain": [
       "array([ 12.,  12.,  12.,  12.,  12.,  12.])"
      ]
     },
     "execution_count": 45,
     "metadata": {},
     "output_type": "execute_result"
    }
   ],
   "source": [
    "hour_between"
   ]
  },
  {
   "cell_type": "code",
   "execution_count": 46,
   "metadata": {},
   "outputs": [
    {
     "data": {
      "text/plain": [
       "array([ 139.,  136.,  147.,  147.,  147.,  147.])"
      ]
     },
     "execution_count": 46,
     "metadata": {},
     "output_type": "execute_result"
    }
   ],
   "source": [
    "hour_after"
   ]
  },
  {
   "cell_type": "markdown",
   "metadata": {},
   "source": [
    "### Linear model"
   ]
  },
  {
   "cell_type": "code",
   "execution_count": 63,
   "metadata": {
    "scrolled": false
   },
   "outputs": [
    {
     "name": "stdout",
     "output_type": "stream",
     "text": [
      "/Users/luren/gohawks.json\n",
      "1421222681\n",
      "118543.0\n",
      "63538.0\n",
      "6055.0\n",
      "Before Feb. 1, 8:00 a.m.\n",
      "Average error 301.896183654\n",
      "Average R-squared 0.389118345128\n",
      "Average RMSE 770.585251684\n",
      "Between Feb. 1, 8:00 a.m. and 8:00 p.m.\n",
      "Average error 29501.809605\n",
      "Average R-squared 0.878832776811\n",
      "Average RMSE 29751.2478133\n",
      "After Feb. 1, 8:00 p.m.\n",
      "Average error 4617.50980407\n",
      "Average R-squared 0.931435036598\n",
      "Average RMSE 14380.3584417\n",
      "/Users/luren/gopatriots.json\n",
      "1421229011\n",
      "6614.0\n",
      "18725.0\n",
      "893.0\n",
      "Before Feb. 1, 8:00 a.m.\n",
      "Average error 20.1079899551\n",
      "Average R-squared 0.770363944449\n",
      "Average RMSE 38.9203899253\n",
      "Between Feb. 1, 8:00 a.m. and 8:00 p.m.\n",
      "Average error 4168.39120241\n",
      "Average R-squared 0.969431983718\n",
      "Average RMSE 4168.73899362\n",
      "After Feb. 1, 8:00 p.m.\n",
      "Average error 5.61841104037\n",
      "Average R-squared 0.933348149815\n",
      "Average RMSE 9.79870201874\n",
      "/Users/luren/nfl.json\n",
      "1421222404\n",
      "134507.0\n",
      "52153.0\n",
      "72364.0\n",
      "Before Feb. 1, 8:00 a.m.\n",
      "Average error 123.665847411\n",
      "Average R-squared 0.525128783226\n",
      "Average RMSE 208.98782393\n",
      "Between Feb. 1, 8:00 a.m. and 8:00 p.m.\n",
      "Average error 16630.3069403\n",
      "Average R-squared 0.926139839807\n",
      "Average RMSE 16655.2641211\n",
      "After Feb. 1, 8:00 p.m.\n",
      "Average error 110.872927677\n",
      "Average R-squared 0.841480337857\n",
      "Average RMSE 143.523487658\n",
      "/Users/luren/patriots.json\n",
      "1421222838\n",
      "150476.0\n",
      "310718.0\n",
      "28519.0\n",
      "Before Feb. 1, 8:00 a.m.\n",
      "Average error 338.48542506\n",
      "Average R-squared 0.466213971291\n",
      "Average RMSE 841.768541744\n",
      "Between Feb. 1, 8:00 a.m. and 8:00 p.m.\n",
      "Average error 30525.5265346\n",
      "Average R-squared 0.918868916674\n",
      "Average RMSE 30647.9898439\n",
      "After Feb. 1, 8:00 p.m.\n",
      "Average error 90.7961153198\n",
      "Average R-squared 0.905161455127\n",
      "Average RMSE 163.417665798\n",
      "/Users/luren/sb49.json\n",
      "1421238675\n",
      "46377.0\n",
      "718732.0\n",
      "61842.0\n",
      "Before Feb. 1, 8:00 a.m.\n",
      "Average error 44.4798404285\n",
      "Average R-squared 0.841435200123\n",
      "Average RMSE 71.4383097527\n",
      "Between Feb. 1, 8:00 a.m. and 8:00 p.m.\n",
      "Average error 143045.653974\n",
      "Average R-squared 0.822040009958\n",
      "Average RMSE 143239.145853\n",
      "After Feb. 1, 8:00 p.m.\n",
      "Average error 118.183406668\n",
      "Average R-squared 0.893595888114\n",
      "Average RMSE 202.049088633\n",
      "/Users/luren/superbowl.json\n",
      "1421223187\n",
      "214598.0\n",
      "1026882.0\n",
      "107287.0\n",
      "Before Feb. 1, 8:00 a.m.\n",
      "Average error 329.28464405\n",
      "Average R-squared 0.353815678898\n",
      "Average RMSE 667.777378198\n",
      "Between Feb. 1, 8:00 a.m. and 8:00 p.m.\n",
      "Average error 439426.328324\n",
      "Average R-squared 0.921459982952\n",
      "Average RMSE 439992.541589\n",
      "After Feb. 1, 8:00 p.m.\n",
      "Average error 267.850280911\n",
      "Average R-squared 0.869370859438\n",
      "Average RMSE 468.523005289\n"
     ]
    }
   ],
   "source": [
    "# Linear regression model\n",
    "m = 0\n",
    "for tagname in tag:\n",
    "    print(tagname)\n",
    "    f = io.open(tagname, 'r')\n",
    "    \n",
    "    tweet_0 = json.loads(f.readline())  \n",
    "    start_time = tweet_0['citation_date']\n",
    "    print(start_time)\n",
    "    \n",
    "    # calculate features for model construction\n",
    "    pst_tz = pytz.timezone('US/Pacific')\n",
    "    tweet_features_before = np.zeros([hour_before[m], 9])\n",
    "    user_id_before = [[]] * hour_before[m]\n",
    "    tweet_features_between = np.zeros([hour_between[m], 9]) \n",
    "    user_id_between = [[]] * hour_between[m]\n",
    "    tweet_features_after = np.zeros([hour_after[m], 9])\n",
    "    user_id_after = [[]] * hour_after[m]\n",
    "\n",
    "    f.seek(0, 0)\n",
    "    \n",
    "    flag_2 = True\n",
    "    flag_3 = True\n",
    "    \n",
    "    for line in f:\n",
    "        tweet = json.loads(line)\n",
    "        time = tweet['citation_date']\n",
    "        \n",
    "        # For the first time period\n",
    "        if time < 1422806400:\n",
    "            # Calculate which hour current tweet belongs to\n",
    "            n = math.ceil((time - start_time_tag[m])/3600.)\n",
    "            # Update value of features for corresponding hour \n",
    "            tweet_features_before[(n-1), 0] += 1\n",
    "            tweet_features_before[(n-1), 1] += tweet['metrics']['citations']['total']\n",
    "            followers = tweet['author']['followers']\n",
    "            tweet_features_before[(n-1), 2] += followers\n",
    "            if followers > tweet_features_before[(n-1), 3]:\n",
    "                tweet_features_before[(n-1), 3] = followers\n",
    "            time_of_the_day = int(datetime.datetime.fromtimestamp(tweet['citation_date'], pst_tz).strftime(\"%H\"))\n",
    "            tweet_features_before[(n-1), 4] = time_of_the_day\n",
    "            tweet_features_before[(n-1), 5] += tweet['metrics']['ranking_score']\n",
    "            tweet_features_before[(n-1), 6] += tweet['tweet']['favorite_count']\n",
    "            tweet_features_before[(n-1), 7] += tweet['metrics']['impressions']\n",
    "            user_id_before[(n-1)].append(tweet['tweet']['user']['id'])\n",
    "            \n",
    "        elif (time >= 1422806400) and (time < 1422849601):\n",
    "            # Calculate which hour current tweet belongs to\n",
    "            n = math.ceil((time - time_8am)/3600.)\n",
    "            # Update value of features for corresponding hour \n",
    "            tweet_features_between[(n-1), 0] += 1\n",
    "            tweet_features_between[(n-1), 1] += tweet['metrics']['citations']['total']\n",
    "            followers = tweet['author']['followers']\n",
    "            tweet_features_between[(n-1), 2] += followers\n",
    "            if followers > tweet_features_between[(n-1), 3]:\n",
    "                tweet_features_between[(n-1), 3] = followers\n",
    "            time_of_the_day = int(datetime.datetime.fromtimestamp(tweet['citation_date'], pst_tz).strftime(\"%H\"))\n",
    "            tweet_features_between[(n-1), 4] = time_of_the_day\n",
    "            tweet_features_between[(n-1), 5] += tweet['metrics']['ranking_score']\n",
    "            tweet_features_between[(n-1), 6] += tweet['tweet']['favorite_count']\n",
    "            tweet_features_between[(n-1), 7] += tweet['metrics']['impressions']\n",
    "            user_id_between[(n-1)].append(tweet['tweet']['user']['id'])\n",
    "            \n",
    "        else:\n",
    "            # Calculate which hour current tweet belongs to\n",
    "            n = math.ceil((time - time_8pm)/3600.)\n",
    "            # Update value of features for corresponding hour \n",
    "            tweet_features_after[(n-1), 0] += 1\n",
    "            tweet_features_after[(n-1), 1] += tweet['metrics']['citations']['total']\n",
    "            followers = tweet['author']['followers']\n",
    "            tweet_features_after[(n-1), 2] += followers\n",
    "            if followers > tweet_features_before[(n-1), 3]:\n",
    "                tweet_features_after[(n-1), 3] = followers\n",
    "            time_of_the_day = int(datetime.datetime.fromtimestamp(tweet['citation_date'], pst_tz).strftime(\"%H\"))\n",
    "            tweet_features_after[(n-1), 4] = time_of_the_day\n",
    "            tweet_features_after[(n-1), 5] += tweet['metrics']['ranking_score']\n",
    "            tweet_features_after[(n-1), 6] += tweet['tweet']['favorite_count']\n",
    "            tweet_features_after[(n-1), 7] += tweet['metrics']['impressions']\n",
    "            user_id_after[(n-1)].append(tweet['tweet']['user']['id'])\n",
    "    \n",
    "    for t in range(len(user_id_before)):\n",
    "        tweet_features_before[t, 8] = len(np.unique(user_id_before[t]))\n",
    "    for l in range(len(user_id_between)):\n",
    "        tweet_features_between[l, 8] = len(np.unique(user_id_between[l]))\n",
    "    for n in range(len(user_id_after)):\n",
    "        tweet_features_after[n, 8] = len(np.unique(user_id_after[n]))\n",
    "    print(sum(tweet_features_before[:, 0]))\n",
    "    print(sum(tweet_features_between[:, 0]))\n",
    "    #print(tweet_features_between)\n",
    "    print(sum(tweet_features_after[:, 0]))\n",
    "    \n",
    "    # Reconstruct independent and dependent variable\n",
    "    tweet_before_y = tweet_features_before[1:,0]\n",
    "    #print(tweet_before_y.shape)\n",
    "    tweet_before_x = tweet_features_before[:(hour_before[m]-1), 1:]\n",
    "    #print(tweet_before_x.shape)\n",
    "    \n",
    "    tweet_between_y = tweet_features_between[1:,0]\n",
    "    #print(tweet_between_y.shape)\n",
    "    tweet_between_x = tweet_features_between[:(hour_between[m]-1), 1:]\n",
    "    #print(tweet_between_x.shape)\n",
    "    \n",
    "    tweet_after_y = tweet_features_after[1:,0]\n",
    "    #print(tweet_after_y.shape)\n",
    "    tweet_after_x = tweet_features_after[:(hour_after[m]-1), 1:]\n",
    "    #print(tweet_after_x.shape)\n",
    "    \n",
    "    # Build model\n",
    "    #result_before = sm.OLS(tweet_before_y, tweet_before_x).fit()\n",
    "    #result_between = sm.OLS(tweet_between_y, tweet_between_x).fit()\n",
    "    #result_after = sm.OLS(tweet_after_y, tweet_after_x).fit()\n",
    "                \n",
    "    time_series = ['Before Feb. 1, 8:00 a.m.', 'Between Feb. 1, 8:00 a.m. and 8:00 p.m.', 'After Feb. 1, 8:00 p.m.']\n",
    "    tweet_y_all = [tweet_before_y, tweet_between_y, tweet_after_y]\n",
    "    tweet_x_all = [tweet_before_x, tweet_between_x, tweet_after_x]\n",
    "    \n",
    "    for i in range(3):\n",
    "        print(time_series[i])\n",
    "        # 10-folder cross-validation\n",
    "        X = np.array(tweet_x_all[i])\n",
    "        Y = np.array(tweet_y_all[i])\n",
    "    \n",
    "        average_error = []\n",
    "        r_squared = []\n",
    "        rmse = []\n",
    "    \n",
    "        kf = KFold(n_splits=10)\n",
    "        for train_index, test_index in kf.split(X):\n",
    "            X_train, X_test = X[train_index], X[test_index]\n",
    "            y_train, y_test = Y[train_index], Y[test_index]\n",
    "        \n",
    "            X_train = list(X_train)\n",
    "            y_train = list(y_train)\n",
    "            \n",
    "            # linear regression model\n",
    "            result = sm.OLS(y_train, X_train).fit()\n",
    "            test_prediction = result.predict(X_test)\n",
    "            average_error.append(np.mean(abs(test_prediction - y_test)))\n",
    "            r_squared.append(result.rsquared)\n",
    "            rmse.append(sqrt(mean_squared_error(test_prediction, y_test)))\n",
    "    \n",
    "        #print('10-folder error', average_error)\n",
    "        print('Average error', np.mean(average_error))\n",
    "        print('Average R-squared', np.mean(r_squared))\n",
    "        print('Average RMSE', np.mean(rmse))\n",
    "    \n",
    "    m = m + 1"
   ]
  },
  {
   "cell_type": "markdown",
   "metadata": {},
   "source": [
    "### non-linear model 1: random forest"
   ]
  },
  {
   "cell_type": "code",
   "execution_count": 64,
   "metadata": {
    "collapsed": true
   },
   "outputs": [],
   "source": [
    "from sklearn.ensemble import RandomForestRegressor\n",
    "from sklearn import metrics"
   ]
  },
  {
   "cell_type": "code",
   "execution_count": 66,
   "metadata": {},
   "outputs": [
    {
     "name": "stdout",
     "output_type": "stream",
     "text": [
      "/Users/luren/gohawks.json\n",
      "1421222681\n",
      "118543.0\n",
      "63538.0\n",
      "6055.0\n",
      "Before Feb. 1, 8:00 a.m.\n",
      "Average error 168.307875264\n",
      "Average RMSE 453.639902473\n",
      "Between Feb. 1, 8:00 a.m. and 8:00 p.m.\n",
      "Average error 3147.3\n",
      "Average RMSE 3180.92523884\n",
      "After Feb. 1, 8:00 p.m.\n",
      "Average error 33.6887505323\n",
      "Average RMSE 50.4877008065\n",
      "/Users/luren/gopatriots.json\n",
      "1421229011\n",
      "6614.0\n",
      "18725.0\n",
      "893.0\n",
      "Before Feb. 1, 8:00 a.m.\n",
      "Average error 11.6276397804\n",
      "Average RMSE 27.8582114043\n",
      "Between Feb. 1, 8:00 a.m. and 8:00 p.m.\n",
      "Average error 607.455\n",
      "Average RMSE 612.245189186\n",
      "After Feb. 1, 8:00 p.m.\n",
      "Average error 4.51689742818\n",
      "Average RMSE 5.26441177913\n",
      "/Users/luren/nfl.json\n",
      "1421222404\n",
      "134507.0\n",
      "52153.0\n",
      "72364.0\n",
      "Before Feb. 1, 8:00 a.m.\n",
      "Average error 118.993726216\n",
      "Average RMSE 211.054778305\n",
      "Between Feb. 1, 8:00 a.m. and 8:00 p.m.\n",
      "Average error 1664.555\n",
      "Average RMSE 1697.43695713\n",
      "After Feb. 1, 8:00 p.m.\n",
      "Average error 117.589703078\n",
      "Average RMSE 156.862274028\n",
      "/Users/luren/patriots.json\n",
      "1421222838\n",
      "150476.0\n",
      "310718.0\n",
      "28519.0\n",
      "Before Feb. 1, 8:00 a.m.\n",
      "Average error 276.062912262\n",
      "Average RMSE 808.270842872\n",
      "Between Feb. 1, 8:00 a.m. and 8:00 p.m.\n",
      "Average error 17018.11\n",
      "Average RMSE 17057.9604853\n",
      "After Feb. 1, 8:00 p.m.\n",
      "Average error 98.7631428571\n",
      "Average RMSE 128.707629591\n",
      "/Users/luren/sb49.json\n",
      "1421238675\n",
      "46377.0\n",
      "718732.0\n",
      "61842.0\n",
      "Before Feb. 1, 8:00 a.m.\n",
      "Average error 52.372791289\n",
      "Average RMSE 87.1331238808\n",
      "Between Feb. 1, 8:00 a.m. and 8:00 p.m.\n",
      "Average error 33465.92\n",
      "Average RMSE 33484.1974593\n",
      "After Feb. 1, 8:00 p.m.\n",
      "Average error 137.725428571\n",
      "Average RMSE 181.05800651\n",
      "/Users/luren/superbowl.json\n",
      "1421223187\n",
      "214598.0\n",
      "1026882.0\n",
      "107287.0\n",
      "Before Feb. 1, 8:00 a.m.\n",
      "Average error 302.53846723\n",
      "Average RMSE 660.047602016\n",
      "Between Feb. 1, 8:00 a.m. and 8:00 p.m.\n",
      "Average error 54399.86\n",
      "Average RMSE 54437.0773237\n",
      "After Feb. 1, 8:00 p.m.\n",
      "Average error 201.391\n",
      "Average RMSE 299.175797961\n"
     ]
    }
   ],
   "source": [
    "# Random forest model\n",
    "m = 0\n",
    "for tagname in tag:\n",
    "    print(tagname)\n",
    "    f = io.open(tagname, 'r')\n",
    "    \n",
    "    tweet_0 = json.loads(f.readline())  \n",
    "    start_time = tweet_0['citation_date']\n",
    "    print(start_time)\n",
    "    \n",
    "    # calculate features for model construction\n",
    "    pst_tz = pytz.timezone('US/Pacific')\n",
    "    tweet_features_before = np.zeros([hour_before[m], 9])\n",
    "    user_id_before = [[]] * hour_before[m]\n",
    "    tweet_features_between = np.zeros([hour_between[m], 9]) \n",
    "    user_id_between = [[]] * hour_between[m]\n",
    "    tweet_features_after = np.zeros([hour_after[m], 9])\n",
    "    user_id_after = [[]] * hour_after[m]\n",
    "\n",
    "    f.seek(0, 0)\n",
    "    \n",
    "    flag_2 = True\n",
    "    flag_3 = True\n",
    "    \n",
    "    for line in f:\n",
    "        tweet = json.loads(line)\n",
    "        time = tweet['citation_date']\n",
    "        \n",
    "        # For the first time period\n",
    "        if time < 1422806400:\n",
    "            # Calculate which hour current tweet belongs to\n",
    "            n = math.ceil((time - start_time_tag[m])/3600.)\n",
    "            # Update value of features for corresponding hour \n",
    "            tweet_features_before[(n-1), 0] += 1\n",
    "            tweet_features_before[(n-1), 1] += tweet['metrics']['citations']['total']\n",
    "            followers = tweet['author']['followers']\n",
    "            tweet_features_before[(n-1), 2] += followers\n",
    "            if followers > tweet_features_before[(n-1), 3]:\n",
    "                tweet_features_before[(n-1), 3] = followers\n",
    "            time_of_the_day = int(datetime.datetime.fromtimestamp(tweet['citation_date'], pst_tz).strftime(\"%H\"))\n",
    "            tweet_features_before[(n-1), 4] = time_of_the_day\n",
    "            tweet_features_before[(n-1), 5] += tweet['metrics']['ranking_score']\n",
    "            tweet_features_before[(n-1), 6] += tweet['tweet']['favorite_count']\n",
    "            tweet_features_before[(n-1), 7] += tweet['metrics']['impressions']\n",
    "            user_id_before[(n-1)].append(tweet['tweet']['user']['id'])\n",
    "            \n",
    "        elif (time >= 1422806400) and (time < 1422849601):\n",
    "            # Calculate which hour current tweet belongs to\n",
    "            n = math.ceil((time - time_8am)/3600.)\n",
    "            # Update value of features for corresponding hour \n",
    "            tweet_features_between[(n-1), 0] += 1\n",
    "            tweet_features_between[(n-1), 1] += tweet['metrics']['citations']['total']\n",
    "            followers = tweet['author']['followers']\n",
    "            tweet_features_between[(n-1), 2] += followers\n",
    "            if followers > tweet_features_between[(n-1), 3]:\n",
    "                tweet_features_between[(n-1), 3] = followers\n",
    "            time_of_the_day = int(datetime.datetime.fromtimestamp(tweet['citation_date'], pst_tz).strftime(\"%H\"))\n",
    "            tweet_features_between[(n-1), 4] = time_of_the_day\n",
    "            tweet_features_between[(n-1), 5] += tweet['metrics']['ranking_score']\n",
    "            tweet_features_between[(n-1), 6] += tweet['tweet']['favorite_count']\n",
    "            tweet_features_between[(n-1), 7] += tweet['metrics']['impressions']\n",
    "            user_id_between[(n-1)].append(tweet['tweet']['user']['id'])\n",
    "            \n",
    "        else:\n",
    "            # Calculate which hour current tweet belongs to\n",
    "            n = math.ceil((time - time_8pm)/3600.)\n",
    "            # Update value of features for corresponding hour \n",
    "            tweet_features_after[(n-1), 0] += 1\n",
    "            tweet_features_after[(n-1), 1] += tweet['metrics']['citations']['total']\n",
    "            followers = tweet['author']['followers']\n",
    "            tweet_features_after[(n-1), 2] += followers\n",
    "            if followers > tweet_features_before[(n-1), 3]:\n",
    "                tweet_features_after[(n-1), 3] = followers\n",
    "            time_of_the_day = int(datetime.datetime.fromtimestamp(tweet['citation_date'], pst_tz).strftime(\"%H\"))\n",
    "            tweet_features_after[(n-1), 4] = time_of_the_day\n",
    "            tweet_features_after[(n-1), 5] += tweet['metrics']['ranking_score']\n",
    "            tweet_features_after[(n-1), 6] += tweet['tweet']['favorite_count']\n",
    "            tweet_features_after[(n-1), 7] += tweet['metrics']['impressions']\n",
    "            user_id_after[(n-1)].append(tweet['tweet']['user']['id'])\n",
    "    \n",
    "    for t in range(len(user_id_before)):\n",
    "        tweet_features_before[t, 8] = len(np.unique(user_id_before[t]))\n",
    "    for l in range(len(user_id_between)):\n",
    "        tweet_features_between[l, 8] = len(np.unique(user_id_between[l]))\n",
    "    for n in range(len(user_id_after)):\n",
    "        tweet_features_after[n, 8] = len(np.unique(user_id_after[n]))\n",
    "    print(sum(tweet_features_before[:, 0]))\n",
    "    print(sum(tweet_features_between[:, 0]))\n",
    "    #print(tweet_features_between)\n",
    "    print(sum(tweet_features_after[:, 0]))\n",
    "    \n",
    "    # Reconstruct independent and dependent variable\n",
    "    tweet_before_y = tweet_features_before[1:,0]\n",
    "    #print(tweet_before_y.shape)\n",
    "    tweet_before_x = tweet_features_before[:(hour_before[m]-1), 1:]\n",
    "    #print(tweet_before_x.shape)\n",
    "    \n",
    "    tweet_between_y = tweet_features_between[1:,0]\n",
    "    #print(tweet_between_y.shape)\n",
    "    tweet_between_x = tweet_features_between[:(hour_between[m]-1), 1:]\n",
    "    #print(tweet_between_x.shape)\n",
    "    \n",
    "    tweet_after_y = tweet_features_after[1:,0]\n",
    "    #print(tweet_after_y.shape)\n",
    "    tweet_after_x = tweet_features_after[:(hour_after[m]-1), 1:]\n",
    "    #print(tweet_after_x.shape)\n",
    "    \n",
    "    # Build model\n",
    "    #result_before = sm.OLS(tweet_before_y, tweet_before_x).fit()\n",
    "    #result_between = sm.OLS(tweet_between_y, tweet_between_x).fit()\n",
    "    #result_after = sm.OLS(tweet_after_y, tweet_after_x).fit()\n",
    "                \n",
    "    time_series = ['Before Feb. 1, 8:00 a.m.', 'Between Feb. 1, 8:00 a.m. and 8:00 p.m.', 'After Feb. 1, 8:00 p.m.']\n",
    "    tweet_y_all = [tweet_before_y, tweet_between_y, tweet_after_y]\n",
    "    tweet_x_all = [tweet_before_x, tweet_between_x, tweet_after_x]\n",
    "    \n",
    "    for i in range(3):\n",
    "        print(time_series[i])\n",
    "        # 10-folder cross-validation\n",
    "        X = np.array(tweet_x_all[i])\n",
    "        Y = np.array(tweet_y_all[i])\n",
    "    \n",
    "        average_error = []\n",
    "        rmse_testing = []\n",
    "        #oob_error = list()\n",
    "    \n",
    "        kf = KFold(n_splits=10)\n",
    "        for train_index, test_index in kf.split(X):\n",
    "            X_train, X_test = X[train_index], X[test_index]\n",
    "            y_train, y_test = Y[train_index], Y[test_index]\n",
    "        \n",
    "            X_train = list(X_train)\n",
    "            y_train = list(y_train)\n",
    "            \n",
    "            # random forest model\n",
    "            rf = RandomForestRegressor()\n",
    "            rf.fit(X_train, y_train)\n",
    "            #result = sm.OLS(y_train, X_train).fit()\n",
    "            test_prediction = rf.predict(X_test)\n",
    "            RMSE_testing = np.sqrt(metrics.mean_squared_error(test_prediction, y_test))\n",
    "            rmse_testing.append(RMSE_testing)\n",
    "            average_error.append(np.mean(abs(test_prediction - y_test)))\n",
    "            #oob_error.append((1-rf.oob_score_))\n",
    "            #r_squared.append(result.rsquared)\n",
    "    \n",
    "        #print('10-folder error', average_error)\n",
    "        print('Average error', np.mean(average_error))\n",
    "        print('Average RMSE', np.mean(rmse_testing))\n",
    "        #print('Out Of Bag error', np.mean(oob_error))\n",
    "    \n",
    "    m = m + 1"
   ]
  },
  {
   "cell_type": "markdown",
   "metadata": {},
   "source": [
    "### non-linear model 2: SVM"
   ]
  },
  {
   "cell_type": "code",
   "execution_count": 67,
   "metadata": {
    "collapsed": true
   },
   "outputs": [],
   "source": [
    "from sklearn.svm import SVC"
   ]
  },
  {
   "cell_type": "code",
   "execution_count": 69,
   "metadata": {},
   "outputs": [
    {
     "name": "stdout",
     "output_type": "stream",
     "text": [
      "/Users/luren/gohawks.json\n",
      "1421222681\n",
      "118543.0\n",
      "63538.0\n",
      "6055.0\n",
      "Before Feb. 1, 8:00 a.m.\n",
      "Average error 255.342653277\n",
      "Average RMSE 499.098731346\n",
      "Between Feb. 1, 8:00 a.m. and 8:00 p.m.\n",
      "Average error 6543.3\n",
      "Average RMSE 6550.96616575\n",
      "After Feb. 1, 8:00 p.m.\n",
      "Average error 34.3005494505\n",
      "Average RMSE 41.5668817952\n",
      "/Users/luren/gopatriots.json\n",
      "1421229011\n",
      "6614.0\n",
      "18725.0\n",
      "893.0\n",
      "Before Feb. 1, 8:00 a.m.\n",
      "Average error 14.3016913319\n",
      "Average RMSE 30.5257518178\n",
      "Between Feb. 1, 8:00 a.m. and 8:00 p.m.\n",
      "Average error 1977.35\n",
      "Average RMSE 1977.70914843\n",
      "After Feb. 1, 8:00 p.m.\n",
      "Average error 4.85164835165\n",
      "Average RMSE 5.35472033384\n",
      "/Users/luren/nfl.json\n",
      "1421222404\n",
      "134507.0\n",
      "52153.0\n",
      "72364.0\n",
      "Before Feb. 1, 8:00 a.m.\n",
      "Average error 210.201162791\n",
      "Average RMSE 309.488027946\n",
      "Between Feb. 1, 8:00 a.m. and 8:00 p.m.\n",
      "Average error 5977.9\n",
      "Average RMSE 5978.46578313\n",
      "After Feb. 1, 8:00 p.m.\n",
      "Average error 515.728571429\n",
      "Average RMSE 574.149918017\n",
      "/Users/luren/patriots.json\n",
      "1421222838\n",
      "150476.0\n",
      "310718.0\n",
      "28519.0\n",
      "Before Feb. 1, 8:00 a.m.\n",
      "Average error 284.219503171\n",
      "Average RMSE 566.312577506\n",
      "Between Feb. 1, 8:00 a.m. and 8:00 p.m.\n",
      "Average error 22606.65\n",
      "Average RMSE 22637.8231049\n",
      "After Feb. 1, 8:00 p.m.\n",
      "Average error 143.672380952\n",
      "Average RMSE 165.774155956\n",
      "/Users/luren/sb49.json\n",
      "1421238675\n",
      "46377.0\n",
      "718732.0\n",
      "61842.0\n",
      "Before Feb. 1, 8:00 a.m.\n",
      "Average error 106.858562368\n",
      "Average RMSE 148.849181531\n",
      "Between Feb. 1, 8:00 a.m. and 8:00 p.m.\n",
      "Average error 42681.75\n",
      "Average RMSE 42728.2930238\n",
      "After Feb. 1, 8:00 p.m.\n",
      "Average error 333.857142857\n",
      "Average RMSE 373.507031171\n",
      "/Users/luren/superbowl.json\n",
      "1421223187\n",
      "214598.0\n",
      "1026882.0\n",
      "107287.0\n",
      "Before Feb. 1, 8:00 a.m.\n",
      "Average error 458.030179704\n",
      "Average RMSE 827.348516912\n",
      "Between Feb. 1, 8:00 a.m. and 8:00 p.m.\n",
      "Average error 183020.0\n",
      "Average RMSE 183020.048\n",
      "After Feb. 1, 8:00 p.m.\n",
      "Average error 759.927142857\n",
      "Average RMSE 835.238478927\n"
     ]
    }
   ],
   "source": [
    "# SVM model\n",
    "m = 0\n",
    "for tagname in tag:\n",
    "    print(tagname)\n",
    "    f = io.open(tagname, 'r')\n",
    "    \n",
    "    tweet_0 = json.loads(f.readline())  \n",
    "    start_time = tweet_0['citation_date']\n",
    "    print(start_time)\n",
    "    \n",
    "    # calculate features for model construction\n",
    "    pst_tz = pytz.timezone('US/Pacific')\n",
    "    tweet_features_before = np.zeros([hour_before[m], 9])\n",
    "    user_id_before = [[]] * hour_before[m]\n",
    "    tweet_features_between = np.zeros([hour_between[m], 9]) \n",
    "    user_id_between = [[]] * hour_between[m]\n",
    "    tweet_features_after = np.zeros([hour_after[m], 9])\n",
    "    user_id_after = [[]] * hour_after[m]\n",
    "\n",
    "    f.seek(0, 0)\n",
    "    \n",
    "    flag_2 = True\n",
    "    flag_3 = True\n",
    "    \n",
    "    for line in f:\n",
    "        tweet = json.loads(line)\n",
    "        time = tweet['citation_date']\n",
    "        \n",
    "        # For the first time period\n",
    "        if time < 1422806400:\n",
    "            # Calculate which hour current tweet belongs to\n",
    "            n = math.ceil((time - start_time_tag[m])/3600.)\n",
    "            # Update value of features for corresponding hour \n",
    "            tweet_features_before[(n-1), 0] += 1\n",
    "            tweet_features_before[(n-1), 1] += tweet['metrics']['citations']['total']\n",
    "            followers = tweet['author']['followers']\n",
    "            tweet_features_before[(n-1), 2] += followers\n",
    "            if followers > tweet_features_before[(n-1), 3]:\n",
    "                tweet_features_before[(n-1), 3] = followers\n",
    "            time_of_the_day = int(datetime.datetime.fromtimestamp(tweet['citation_date'], pst_tz).strftime(\"%H\"))\n",
    "            tweet_features_before[(n-1), 4] = time_of_the_day\n",
    "            tweet_features_before[(n-1), 5] += tweet['metrics']['ranking_score']\n",
    "            tweet_features_before[(n-1), 6] += tweet['tweet']['favorite_count']\n",
    "            tweet_features_before[(n-1), 7] += tweet['metrics']['impressions']\n",
    "            user_id_before[(n-1)].append(tweet['tweet']['user']['id'])\n",
    "            \n",
    "        elif (time >= 1422806400) and (time < 1422849601):\n",
    "            # Calculate which hour current tweet belongs to\n",
    "            n = math.ceil((time - time_8am)/3600.)\n",
    "            # Update value of features for corresponding hour \n",
    "            tweet_features_between[(n-1), 0] += 1\n",
    "            tweet_features_between[(n-1), 1] += tweet['metrics']['citations']['total']\n",
    "            followers = tweet['author']['followers']\n",
    "            tweet_features_between[(n-1), 2] += followers\n",
    "            if followers > tweet_features_between[(n-1), 3]:\n",
    "                tweet_features_between[(n-1), 3] = followers\n",
    "            time_of_the_day = int(datetime.datetime.fromtimestamp(tweet['citation_date'], pst_tz).strftime(\"%H\"))\n",
    "            tweet_features_between[(n-1), 4] = time_of_the_day\n",
    "            tweet_features_between[(n-1), 5] += tweet['metrics']['ranking_score']\n",
    "            tweet_features_between[(n-1), 6] += tweet['tweet']['favorite_count']\n",
    "            tweet_features_between[(n-1), 7] += tweet['metrics']['impressions']\n",
    "            user_id_between[(n-1)].append(tweet['tweet']['user']['id'])\n",
    "            \n",
    "        else:\n",
    "            # Calculate which hour current tweet belongs to\n",
    "            n = math.ceil((time - time_8pm)/3600.)\n",
    "            # Update value of features for corresponding hour \n",
    "            tweet_features_after[(n-1), 0] += 1\n",
    "            tweet_features_after[(n-1), 1] += tweet['metrics']['citations']['total']\n",
    "            followers = tweet['author']['followers']\n",
    "            tweet_features_after[(n-1), 2] += followers\n",
    "            if followers > tweet_features_before[(n-1), 3]:\n",
    "                tweet_features_after[(n-1), 3] = followers\n",
    "            time_of_the_day = int(datetime.datetime.fromtimestamp(tweet['citation_date'], pst_tz).strftime(\"%H\"))\n",
    "            tweet_features_after[(n-1), 4] = time_of_the_day\n",
    "            tweet_features_after[(n-1), 5] += tweet['metrics']['ranking_score']\n",
    "            tweet_features_after[(n-1), 6] += tweet['tweet']['favorite_count']\n",
    "            tweet_features_after[(n-1), 7] += tweet['metrics']['impressions']\n",
    "            user_id_after[(n-1)].append(tweet['tweet']['user']['id'])\n",
    "    \n",
    "    for t in range(len(user_id_before)):\n",
    "        tweet_features_before[t, 8] = len(np.unique(user_id_before[t]))\n",
    "    for l in range(len(user_id_between)):\n",
    "        tweet_features_between[l, 8] = len(np.unique(user_id_between[l]))\n",
    "    for n in range(len(user_id_after)):\n",
    "        tweet_features_after[n, 8] = len(np.unique(user_id_after[n]))\n",
    "    print(sum(tweet_features_before[:, 0]))\n",
    "    print(sum(tweet_features_between[:, 0]))\n",
    "    #print(tweet_features_between)\n",
    "    print(sum(tweet_features_after[:, 0]))\n",
    "    \n",
    "    # Reconstruct independent and dependent variable\n",
    "    tweet_before_y = tweet_features_before[1:,0]\n",
    "    #print(tweet_before_y.shape)\n",
    "    tweet_before_x = tweet_features_before[:(hour_before[m]-1), 1:]\n",
    "    #print(tweet_before_x.shape)\n",
    "    \n",
    "    tweet_between_y = tweet_features_between[1:,0]\n",
    "    #print(tweet_between_y.shape)\n",
    "    tweet_between_x = tweet_features_between[:(hour_between[m]-1), 1:]\n",
    "    #print(tweet_between_x.shape)\n",
    "    \n",
    "    tweet_after_y = tweet_features_after[1:,0]\n",
    "    #print(tweet_after_y.shape)\n",
    "    tweet_after_x = tweet_features_after[:(hour_after[m]-1), 1:]\n",
    "    #print(tweet_after_x.shape)\n",
    "    \n",
    "    # Build model\n",
    "    #result_before = sm.OLS(tweet_before_y, tweet_before_x).fit()\n",
    "    #result_between = sm.OLS(tweet_between_y, tweet_between_x).fit()\n",
    "    #result_after = sm.OLS(tweet_after_y, tweet_after_x).fit()\n",
    "                \n",
    "    time_series = ['Before Feb. 1, 8:00 a.m.', 'Between Feb. 1, 8:00 a.m. and 8:00 p.m.', 'After Feb. 1, 8:00 p.m.']\n",
    "    tweet_y_all = [tweet_before_y, tweet_between_y, tweet_after_y]\n",
    "    tweet_x_all = [tweet_before_x, tweet_between_x, tweet_after_x]\n",
    "    \n",
    "    for i in range(3):\n",
    "        print(time_series[i])\n",
    "        # 10-folder cross-validation\n",
    "        X = np.array(tweet_x_all[i])\n",
    "        Y = np.array(tweet_y_all[i])\n",
    "    \n",
    "        average_error = []\n",
    "        rmse_testing = []\n",
    "        #oob_error = list()\n",
    "    \n",
    "        kf = KFold(n_splits=10)\n",
    "        for train_index, test_index in kf.split(X):\n",
    "            X_train, X_test = X[train_index], X[test_index]\n",
    "            y_train, y_test = Y[train_index], Y[test_index]\n",
    "        \n",
    "            X_train = list(X_train)\n",
    "            y_train = list(y_train)\n",
    "            \n",
    "            # random forest model\n",
    "            clf = SVC() \n",
    "            clf.fit(X_train, y_train)\n",
    "            #result = sm.OLS(y_train, X_train).fit()\n",
    "            test_prediction = clf.predict(X_test)\n",
    "            RMSE_testing = np.sqrt(metrics.mean_squared_error(test_prediction, y_test))\n",
    "            rmse_testing.append(RMSE_testing)\n",
    "            average_error.append(np.mean(abs(test_prediction - y_test)))\n",
    "            #oob_error.append((1-rf.oob_score_))\n",
    "            #r_squared.append(result.rsquared)\n",
    "        #print('10-folder error', average_error)\n",
    "        print('Average error', np.mean(average_error))\n",
    "        print('Average RMSE', np.mean(rmse_testing))\n",
    "        #print('Out Of Bag error', np.mean(oob_error))\n",
    "    \n",
    "    m = m + 1"
   ]
  },
  {
   "cell_type": "markdown",
   "metadata": {},
   "source": [
    "## Q2 Regression model on aggregated data"
   ]
  },
  {
   "cell_type": "code",
   "execution_count": 70,
   "metadata": {
    "collapsed": true
   },
   "outputs": [],
   "source": [
    "start_time = min(start_time_tag)\n",
    "end_time = max(end_time_tag)\n",
    "time_8am = 1422806400\n",
    "time_8pm = 1422849600\n",
    "all_hour_before = math.ceil((time_8am - start_time)/3600.)\n",
    "all_hour_between = math.ceil((time_8pm - time_8am)/3600.)\n",
    "all_hour_after = math.ceil((end_time - time_8am)/3600.)"
   ]
  },
  {
   "cell_type": "code",
   "execution_count": 71,
   "metadata": {},
   "outputs": [
    {
     "name": "stdout",
     "output_type": "stream",
     "text": [
      "440 12 147\n"
     ]
    }
   ],
   "source": [
    "print(all_hour_before, all_hour_between, all_hour_after)"
   ]
  },
  {
   "cell_type": "code",
   "execution_count": 72,
   "metadata": {
    "collapsed": true
   },
   "outputs": [],
   "source": [
    "all_tweet_features_before = np.zeros([all_hour_before, 9])\n",
    "all_user_id_before = [[]] * all_hour_before\n",
    "all_tweet_features_between = np.zeros([all_hour_between, 9]) \n",
    "all_user_id_between = [[]] * all_hour_between\n",
    "all_tweet_features_after = np.zeros([all_hour_after, 9])\n",
    "all_user_id_after = [[]] * all_hour_after"
   ]
  },
  {
   "cell_type": "code",
   "execution_count": 74,
   "metadata": {},
   "outputs": [
    {
     "name": "stdout",
     "output_type": "stream",
     "text": [
      "671115.0\n",
      "2190748.0\n",
      "276960.0\n",
      "Before Feb. 1, 8:00 a.m.\n",
      "Average error 706.054640592\n",
      "Average RMSE 1664.56053354\n",
      "Between Feb. 1, 8:00 a.m. and 8:00 p.m.\n",
      "Average error 92529.41\n",
      "Average RMSE 92598.0738588\n",
      "After Feb. 1, 8:00 p.m.\n",
      "Average error 364.069714286\n",
      "Average RMSE 486.481342756\n"
     ]
    }
   ],
   "source": [
    "for tagname in tag:\n",
    "    f = io.open(tagname, 'r')\n",
    "    \n",
    "    # calculate features for model construction\n",
    "    pst_tz = pytz.timezone('US/Pacific')\n",
    "\n",
    "    for line in f:\n",
    "        tweet = json.loads(line)\n",
    "        time = tweet['citation_date']\n",
    "        \n",
    "        # For the first time period\n",
    "        if time < 1422806400:\n",
    "            # Calculate which hour current tweet belongs to\n",
    "            n = math.ceil((time - start_time)/3600.)\n",
    "            # Update value of features for corresponding hour \n",
    "            all_tweet_features_before[(n-1), 0] += 1\n",
    "            all_tweet_features_before[(n-1), 1] += tweet['metrics']['citations']['total']\n",
    "            followers = tweet['author']['followers']\n",
    "            all_tweet_features_before[(n-1), 2] += followers\n",
    "            if followers > all_tweet_features_before[(n-1), 3]:\n",
    "                all_tweet_features_before[(n-1), 3] = followers\n",
    "            time_of_the_day = int(datetime.datetime.fromtimestamp(tweet['citation_date'], pst_tz).strftime(\"%H\"))\n",
    "            all_tweet_features_before[(n-1), 4] = time_of_the_day\n",
    "            all_tweet_features_before[(n-1), 5] += tweet['metrics']['ranking_score']\n",
    "            all_tweet_features_before[(n-1), 6] += tweet['tweet']['favorite_count']\n",
    "            all_tweet_features_before[(n-1), 7] += tweet['metrics']['impressions']\n",
    "            all_user_id_before[(n-1)].append(tweet['tweet']['user']['id'])\n",
    "            \n",
    "        elif (time >= 1422806400) and (time < 1422849601):\n",
    "            # Calculate which hour current tweet belongs to\n",
    "            n = math.ceil((time - time_8am)/3600.)\n",
    "            # Update value of features for corresponding hour \n",
    "            all_tweet_features_between[(n-1), 0] += 1\n",
    "            all_tweet_features_between[(n-1), 1] += tweet['metrics']['citations']['total']\n",
    "            followers = tweet['author']['followers']\n",
    "            all_tweet_features_between[(n-1), 2] += followers\n",
    "            if followers > all_tweet_features_between[(n-1), 3]:\n",
    "                all_tweet_features_between[(n-1), 3] = followers\n",
    "            time_of_the_day = int(datetime.datetime.fromtimestamp(tweet['citation_date'], pst_tz).strftime(\"%H\"))\n",
    "            all_tweet_features_between[(n-1), 4] = time_of_the_day\n",
    "            all_tweet_features_between[(n-1), 5] += tweet['metrics']['ranking_score']\n",
    "            all_tweet_features_between[(n-1), 6] += tweet['tweet']['favorite_count']\n",
    "            all_tweet_features_between[(n-1), 7] += tweet['metrics']['impressions']\n",
    "            all_user_id_between[(n-1)].append(tweet['tweet']['user']['id'])\n",
    "            \n",
    "        else:\n",
    "            # Calculate which hour current tweet belongs to\n",
    "            n = math.ceil((time - time_8pm)/3600.)\n",
    "            # Update value of features for corresponding hour \n",
    "            all_tweet_features_after[(n-1), 0] += 1\n",
    "            all_tweet_features_after[(n-1), 1] += tweet['metrics']['citations']['total']\n",
    "            followers = tweet['author']['followers']\n",
    "            all_tweet_features_after[(n-1), 2] += followers\n",
    "            if followers > all_tweet_features_before[(n-1), 3]:\n",
    "                all_tweet_features_after[(n-1), 3] = followers\n",
    "            time_of_the_day = int(datetime.datetime.fromtimestamp(tweet['citation_date'], pst_tz).strftime(\"%H\"))\n",
    "            all_tweet_features_after[(n-1), 4] = time_of_the_day\n",
    "            all_tweet_features_after[(n-1), 5] += tweet['metrics']['ranking_score']\n",
    "            all_tweet_features_after[(n-1), 6] += tweet['tweet']['favorite_count']\n",
    "            all_tweet_features_after[(n-1), 7] += tweet['metrics']['impressions']\n",
    "            all_user_id_after[(n-1)].append(tweet['tweet']['user']['id'])\n",
    "    \n",
    "for t in range(len(all_user_id_before)):\n",
    "    all_tweet_features_before[t, 8] = len(np.unique(all_user_id_before[t]))\n",
    "for l in range(len(all_user_id_between)):\n",
    "    all_tweet_features_between[l, 8] = len(np.unique(all_user_id_between[l]))\n",
    "for n in range(len(all_user_id_after)):\n",
    "    all_tweet_features_after[n, 8] = len(np.unique(all_user_id_after[n]))\n",
    "print(sum(all_tweet_features_before[:, 0]))\n",
    "print(sum(all_tweet_features_between[:, 0]))\n",
    "print(sum(all_tweet_features_after[:, 0]))\n",
    "    \n",
    "    # Reconstruct independent and dependent variable\n",
    "all_tweet_before_y = all_tweet_features_before[1:,0]\n",
    "    #print(tweet_before_y.shape)\n",
    "all_tweet_before_x = all_tweet_features_before[:(all_hour_before-1), 1:]\n",
    "    #print(tweet_before_x.shape)\n",
    "    \n",
    "all_tweet_between_y = all_tweet_features_between[1:,0]\n",
    "    #print(tweet_between_y.shape)\n",
    "all_tweet_between_x = all_tweet_features_between[:(all_hour_between-1), 1:]\n",
    "    #print(tweet_between_x.shape)\n",
    "    \n",
    "all_tweet_after_y = all_tweet_features_after[1:,0]\n",
    "    #print(tweet_after_y.shape)\n",
    "all_tweet_after_x = all_tweet_features_after[:(all_hour_after-1), 1:]\n",
    "    #print(tweet_after_x.shape)\n",
    "                \n",
    "time_series = ['Before Feb. 1, 8:00 a.m.', 'Between Feb. 1, 8:00 a.m. and 8:00 p.m.', 'After Feb. 1, 8:00 p.m.']\n",
    "tweet_y_all = [all_tweet_before_y, all_tweet_between_y, all_tweet_after_y]\n",
    "tweet_x_all = [all_tweet_before_x, all_tweet_between_x, all_tweet_after_x]\n",
    "    \n",
    "for i in range(3):\n",
    "    print(time_series[i])\n",
    "    # 10-folder cross-validation\n",
    "    X = np.array(tweet_x_all[i])\n",
    "    Y = np.array(tweet_y_all[i])\n",
    "    \n",
    "    average_error = []\n",
    "    rmse_testing = []\n",
    "    #oob_error = list()\n",
    "    \n",
    "    kf = KFold(n_splits=10)\n",
    "    for train_index, test_index in kf.split(X):\n",
    "        X_train, X_test = X[train_index], X[test_index]\n",
    "        y_train, y_test = Y[train_index], Y[test_index]\n",
    "        \n",
    "        X_train = list(X_train)\n",
    "        y_train = list(y_train)\n",
    "            \n",
    "        # random forest model\n",
    "        rf = RandomForestRegressor()\n",
    "        rf.fit(X_train, y_train)\n",
    "        #result = sm.OLS(y_train, X_train).fit()\n",
    "        test_prediction = rf.predict(X_test)\n",
    "        RMSE_testing = np.sqrt(metrics.mean_squared_error(test_prediction, y_test))\n",
    "        rmse_testing.append(RMSE_testing)\n",
    "        average_error.append(np.mean(abs(test_prediction - y_test)))\n",
    "    \n",
    "        #print('10-folder error', average_error)\n",
    "    print('Average error', np.mean(average_error))\n",
    "    print('Average RMSE', np.mean(rmse_testing))"
   ]
  }
 ],
 "metadata": {
  "kernelspec": {
   "display_name": "Python 3",
   "language": "python",
   "name": "python3"
  },
  "language_info": {
   "codemirror_mode": {
    "name": "ipython",
    "version": 3
   },
   "file_extension": ".py",
   "mimetype": "text/x-python",
   "name": "python",
   "nbconvert_exporter": "python",
   "pygments_lexer": "ipython3",
   "version": "3.6.3"
  }
 },
 "nbformat": 4,
 "nbformat_minor": 2
}
